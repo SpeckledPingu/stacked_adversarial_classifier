{
 "cells": [
  {
   "cell_type": "code",
   "execution_count": 1,
   "metadata": {},
   "outputs": [],
   "source": [
    "import pandas as pd\n",
    "import numpy as np\n",
    "\n",
    "from scipy.stats import multinomial\n",
    "\n",
    "import seaborn as sns\n",
    "import matplotlib.pyplot as plt\n",
    "from sklearn.ensemble import RandomForestClassifier\n",
    "from sklearn.preprocessing import StandardScaler, MinMaxScaler\n",
    "from sklearn.model_selection import train_test_split\n",
    "from sklearn.metrics import *\n",
    "\n",
    "%matplotlib inline"
   ]
  },
  {
   "cell_type": "code",
   "execution_count": 2,
   "metadata": {},
   "outputs": [],
   "source": [
    "df = pd.read_csv('wdbc.data', header=None)\n",
    "df = df.drop(0, axis=1)"
   ]
  },
  {
   "cell_type": "code",
   "execution_count": 3,
   "metadata": {},
   "outputs": [],
   "source": [
    "df[1] = df[1] == 'B'\n",
    "df[1] = df[1].astype(int)"
   ]
  },
  {
   "cell_type": "code",
   "execution_count": 4,
   "metadata": {},
   "outputs": [
    {
     "data": {
      "text/plain": [
       "1    357\n",
       "0    212\n",
       "Name: 1, dtype: int64"
      ]
     },
     "execution_count": 4,
     "metadata": {},
     "output_type": "execute_result"
    }
   ],
   "source": [
    "df[1].value_counts()"
   ]
  },
  {
   "cell_type": "code",
   "execution_count": 5,
   "metadata": {},
   "outputs": [],
   "source": [
    "data_x, test_x, data_y, test_y = train_test_split(df.drop(1, axis=1), df[1], random_state=42,\n",
    "                                                  test_size=.3)"
   ]
  },
  {
   "cell_type": "code",
   "execution_count": 6,
   "metadata": {},
   "outputs": [],
   "source": [
    "data_x = data_x.reset_index(drop=True)\n",
    "data_y = data_y.reset_index(drop=True)"
   ]
  },
  {
   "cell_type": "code",
   "execution_count": 7,
   "metadata": {},
   "outputs": [],
   "source": [
    "known_labels = data_y[data_y == 0].sample(frac=0.15, random_state=42).index"
   ]
  },
  {
   "cell_type": "markdown",
   "metadata": {},
   "source": [
    "## CLF Test 1"
   ]
  },
  {
   "cell_type": "code",
   "execution_count": 8,
   "metadata": {},
   "outputs": [],
   "source": [
    "def fit_new_labels(_data, _known_idx, _clf):\n",
    "    _known_data = _data.loc[_known_idx]\n",
    "    _known_labels = pd.Series(np.zeros(_known_data.shape[0]), index=_known_idx)\n",
    "    \n",
    "    _unknown_labels = pd.Series(np.ones(_data.shape[0]), index=_data.index)\n",
    "    \n",
    "    _train_data = pd.concat([_known_data, _data], axis=0)\n",
    "    _train_targets = pd.concat([_known_labels, _unknown_labels], axis=0)\n",
    "    _clf.fit(_train_data, _train_targets)\n",
    "    \n",
    "    return _train_data, _train_targets, _clf\n",
    "\n",
    "def score_new_labels(_data, _known_idx, _clf, min_cutoff=False):\n",
    "    _preds = pd.DataFrame(_clf.predict_proba(_data), _data.index)\n",
    "    if not min_cutoff:\n",
    "        min_cutoff = _preds.iloc[:_known_idx.shape[0],0].min()\n",
    "    _preds['pred'] = _preds[0] < min_cutoff\n",
    "    _preds['pred'] = _preds['pred'].astype(int)\n",
    "    print(min_cutoff)\n",
    "    \n",
    "    return _preds, min_cutoff\n",
    "\n",
    "def extract_new_labels(_preds):\n",
    "    _new_labels = _preds[_preds['pred'] == 0].index\n",
    "    return _new_labels"
   ]
  },
  {
   "cell_type": "code",
   "execution_count": 9,
   "metadata": {},
   "outputs": [],
   "source": [
    "def run_scoring_session(data, labels, min_cutoff=False, estimators=10):\n",
    "    clf = RandomForestClassifier(n_estimators=estimators, random_state=42, n_jobs=-1)\n",
    "    _data, _targets, _clf = fit_new_labels(data, labels, clf)\n",
    "    preds, min_cutoff = score_new_labels(_data, labels, _clf, min_cutoff)\n",
    "    new_labels = extract_new_labels(preds)\n",
    "    \n",
    "    return preds, new_labels, min_cutoff, clf"
   ]
  },
  {
   "cell_type": "code",
   "execution_count": 10,
   "metadata": {},
   "outputs": [],
   "source": [
    "def loop_till_done(_data, _known_labels, _n_estimators, runs=5):\n",
    "    _preds, _labels, min_cutoff = run_scoring_session(_data, _known_labels, \n",
    "                                                                estimators=_n_estimators)\n",
    "    for i in range(runs):\n",
    "        print(i)\n",
    "        print(min_cutoff)\n",
    "        if min_cutoff > 0:\n",
    "            _preds, _labels, min_cutoff, clf = run_scoring_session(_data, _labels.drop_duplicates(), min_cutoff)\n",
    "        else:\n",
    "            return _preds, _labels, min_cutoff\n",
    "    return _preds, _labels, min_cutoff, clf"
   ]
  },
  {
   "cell_type": "code",
   "execution_count": 33,
   "metadata": {},
   "outputs": [],
   "source": [
    "estimators = 35"
   ]
  },
  {
   "cell_type": "code",
   "execution_count": 34,
   "metadata": {},
   "outputs": [],
   "source": [
    "continuity_labels = known_labels.drop_duplicates()"
   ]
  },
  {
   "cell_type": "code",
   "execution_count": 35,
   "metadata": {
    "scrolled": true
   },
   "outputs": [
    {
     "name": "stdout",
     "output_type": "stream",
     "text": [
      "0.3238095238095238\n"
     ]
    }
   ],
   "source": [
    "preds, new_labels, min_cutoff, clf = run_scoring_session(data_x, known_labels.drop_duplicates(), \n",
    "                                                         estimators=estimators)"
   ]
  },
  {
   "cell_type": "code",
   "execution_count": 36,
   "metadata": {},
   "outputs": [],
   "source": [
    "scores = list()\n",
    "score_dfs = list()\n",
    "clfs = list()\n",
    "labeling = list()"
   ]
  },
  {
   "cell_type": "code",
   "execution_count": 37,
   "metadata": {},
   "outputs": [],
   "source": [
    "scoring = preds.reset_index()\n",
    "scoring = scoring.drop_duplicates(subset='index')\n",
    "scoring = scoring.set_index('index')\n",
    "scoring = scoring.sort_index()\n",
    "scoring['org'] = data_y\n",
    "score_dfs.append(scoring)\n",
    "\n",
    "continuity_labels = pd.Index(set(continuity_labels.drop_duplicates().values).union(set(new_labels.values)))\n",
    "\n",
    "clfs.append(clf)\n",
    "labeling.append(continuity_labels)"
   ]
  },
  {
   "cell_type": "code",
   "execution_count": 38,
   "metadata": {},
   "outputs": [
    {
     "name": "stdout",
     "output_type": "stream",
     "text": [
      "0.3238095238095238\n"
     ]
    }
   ],
   "source": [
    "preds_2, labels_, min_cutoff, clf = run_scoring_session(data_x, continuity_labels.drop_duplicates(), min_cutoff,\n",
    "                                                        estimators=10)\n",
    "\n",
    "labels_ = pd.Index(set(continuity_labels.drop_duplicates().values).union(set(labels_.values)))\n",
    "\n",
    "\n",
    "scoring = preds_2.reset_index()\n",
    "scoring = scoring.drop_duplicates(subset='index')\n",
    "scoring = scoring.set_index('index')\n",
    "scoring = scoring.sort_index()\n",
    "scoring['org'] = data_y\n",
    "score_dfs.append(scoring)\n",
    "\n",
    "fpr, tpr, _ = roc_curve(scoring['org'], scoring[0], pos_label=0)\n",
    "roc_auc = auc(fpr, tpr)\n",
    "\n",
    "scores.append((auc(fpr, tpr), min_cutoff))\n",
    "clfs.append(clf)\n",
    "labeling.append(continuity_labels)"
   ]
  },
  {
   "cell_type": "code",
   "execution_count": 39,
   "metadata": {},
   "outputs": [
    {
     "name": "stdout",
     "output_type": "stream",
     "text": [
      "0\n",
      "0.2333333333333333\n",
      "1\n",
      "0.24833333333333335\n",
      "2\n",
      "0.225\n",
      "3\n",
      "0.29166666666666663\n",
      "4\n",
      "0.27666666666666667\n",
      "5\n",
      "0.27666666666666667\n",
      "6\n",
      "0.27666666666666667\n",
      "7\n",
      "0.2766666666666667\n",
      "8\n",
      "0.27666666666666667\n",
      "9\n",
      "0.27666666666666667\n",
      "10\n",
      "0.27666666666666667\n",
      "11\n",
      "0.27666666666666667\n",
      "12\n",
      "0.27666666666666667\n",
      "13\n",
      "0.27666666666666667\n",
      "14\n",
      "0.27666666666666667\n",
      "15\n",
      "0.27666666666666667\n",
      "16\n",
      "0.27666666666666667\n",
      "17\n",
      "0.27666666666666667\n",
      "18\n",
      "0.27666666666666667\n",
      "19\n",
      "0.27666666666666667\n"
     ]
    }
   ],
   "source": [
    "previous_min_cutoff = 0\n",
    "for i in range(20):\n",
    "    print(i)\n",
    "#     preds_, labels_, min_cutoff = run_scoring_session(data_x, labels_.drop_duplicates(),min_cutoff)\n",
    "    preds_, labels_, min_cutoff, clf = run_scoring_session(data_x, continuity_labels.drop_duplicates(),\n",
    "                                                            estimators=10)\n",
    "    \n",
    "    continuity_labels = pd.Index(set(continuity_labels.drop_duplicates().values).union(set(labels_.values)))\n",
    "\n",
    "\n",
    "    scoring = preds_.reset_index()\n",
    "    scoring = scoring.drop_duplicates(subset='index')\n",
    "    scoring = scoring.set_index('index')\n",
    "    scoring = scoring.sort_index()\n",
    "    scoring['org'] = data_y\n",
    "    score_dfs.append(scoring)\n",
    "\n",
    "    fpr, tpr, _ = roc_curve(scoring['org'], scoring[0], pos_label=0)\n",
    "    roc_auc = auc(fpr, tpr)\n",
    "\n",
    "    scores.append((auc(fpr, tpr), min_cutoff))\n",
    "    clfs.append(clf)\n",
    "    labeling.append(continuity_labels)"
   ]
  },
  {
   "cell_type": "code",
   "execution_count": 40,
   "metadata": {},
   "outputs": [],
   "source": [
    "plotting = pd.DataFrame(scores)"
   ]
  },
  {
   "cell_type": "code",
   "execution_count": 41,
   "metadata": {},
   "outputs": [
    {
     "data": {
      "text/plain": [
       "<matplotlib.axes._subplots.AxesSubplot at 0x7f85c40b4128>"
      ]
     },
     "execution_count": 41,
     "metadata": {},
     "output_type": "execute_result"
    },
    {
     "data": {
      "image/png": "[encoded data removed]",
      "text/plain": [
       "<Figure size 432x288 with 1 Axes>"
      ]
     },
     "metadata": {
      "needs_background": "light"
     },
     "output_type": "display_data"
    }
   ],
   "source": [
    "plotting[[0,1]].plot()"
   ]
  },
  {
   "cell_type": "code",
   "execution_count": 42,
   "metadata": {},
   "outputs": [
    {
     "data": {
      "text/plain": [
       "<matplotlib.axes._subplots.AxesSubplot at 0x7f85c3c448d0>"
      ]
     },
     "execution_count": 42,
     "metadata": {},
     "output_type": "execute_result"
    },
    {
     "data": {
      "image/png": "[encoded data removed]",
      "text/plain": [
       "<Figure size 432x288 with 1 Axes>"
      ]
     },
     "metadata": {
      "needs_background": "light"
     },
     "output_type": "display_data"
    }
   ],
   "source": [
    "plotting[1].plot()"
   ]
  },
  {
   "cell_type": "code",
   "execution_count": 43,
   "metadata": {},
   "outputs": [
    {
     "data": {
      "text/plain": [
       "22"
      ]
     },
     "execution_count": 43,
     "metadata": {},
     "output_type": "execute_result"
    }
   ],
   "source": [
    "len(score_dfs)"
   ]
  },
  {
   "cell_type": "code",
   "execution_count": 44,
   "metadata": {},
   "outputs": [],
   "source": [
    "plotting[1] = plotting[1].round(4)"
   ]
  },
  {
   "cell_type": "code",
   "execution_count": 47,
   "metadata": {},
   "outputs": [
    {
     "data": {
      "text/plain": [
       "4"
      ]
     },
     "execution_count": 47,
     "metadata": {},
     "output_type": "execute_result"
    }
   ],
   "source": [
    "plateau_score = plotting.iloc[-1,1]\n",
    "top_scores = plotting[plotting[1] > plateau_score].iloc[1:]\n",
    "\n",
    "if top_scores.empty:\n",
    "    best_run = 0\n",
    "else:\n",
    "    best_run = top_scores[1].idxmax()\n",
    "best_run"
   ]
  },
  {
   "cell_type": "code",
   "execution_count": 48,
   "metadata": {},
   "outputs": [
    {
     "data": {
      "text/html": [
       "<div>\n",
       "<style scoped>\n",
       "    .dataframe tbody tr th:only-of-type {\n",
       "        vertical-align: middle;\n",
       "    }\n",
       "\n",
       "    .dataframe tbody tr th {\n",
       "        vertical-align: top;\n",
       "    }\n",
       "\n",
       "    .dataframe thead th {\n",
       "        text-align: right;\n",
       "    }\n",
       "</style>\n",
       "<table border=\"1\" class=\"dataframe\">\n",
       "  <thead>\n",
       "    <tr style=\"text-align: right;\">\n",
       "      <th></th>\n",
       "      <th>0</th>\n",
       "      <th>1</th>\n",
       "    </tr>\n",
       "  </thead>\n",
       "  <tbody>\n",
       "    <tr>\n",
       "      <th>4</th>\n",
       "      <td>0.74688</td>\n",
       "      <td>0.2917</td>\n",
       "    </tr>\n",
       "  </tbody>\n",
       "</table>\n",
       "</div>"
      ],
      "text/plain": [
       "         0       1\n",
       "4  0.74688  0.2917"
      ]
     },
     "execution_count": 48,
     "metadata": {},
     "output_type": "execute_result"
    }
   ],
   "source": [
    "top_scores.head()"
   ]
  },
  {
   "cell_type": "code",
   "execution_count": 49,
   "metadata": {},
   "outputs": [
    {
     "name": "stdout",
     "output_type": "stream",
     "text": [
      "              precision    recall  f1-score   support\n",
      "\n",
      "           0       0.96      0.18      0.31       149\n",
      "           1       0.67      1.00      0.80       249\n",
      "\n",
      "    accuracy                           0.69       398\n",
      "   macro avg       0.82      0.59      0.55       398\n",
      "weighted avg       0.78      0.69      0.62       398\n",
      "\n"
     ]
    }
   ],
   "source": [
    "print(classification_report(score_dfs[best_run]['org'], score_dfs[best_run]['pred']))"
   ]
  },
  {
   "cell_type": "code",
   "execution_count": 50,
   "metadata": {},
   "outputs": [],
   "source": [
    "fpr, tpr, _ = roc_curve(score_dfs[best_run]['org'], score_dfs[best_run][0], pos_label=0)\n",
    "roc_auc = auc(fpr, tpr)"
   ]
  },
  {
   "cell_type": "code",
   "execution_count": 51,
   "metadata": {},
   "outputs": [
    {
     "data": {
      "image/png": "[encoded data removed]",
      "text/plain": [
       "<Figure size 432x288 with 1 Axes>"
      ]
     },
     "metadata": {
      "needs_background": "light"
     },
     "output_type": "display_data"
    }
   ],
   "source": [
    "plt.figure()\n",
    "lw = 2\n",
    "plt.plot(fpr, tpr, color='darkorange',\n",
    "         lw=lw, label='ROC curve (area = %0.2f)' % roc_auc)\n",
    "plt.plot([0, 1], [0, 1], color='navy', lw=lw, linestyle='--')\n",
    "plt.xlim([0.0, 1.0])\n",
    "plt.ylim([0.0, 1.05])\n",
    "plt.xlabel('False Positive Rate')\n",
    "plt.ylabel('True Positive Rate')\n",
    "plt.title('Receiver operating characteristic example')\n",
    "plt.legend(loc=\"lower right\")\n",
    "plt.show()"
   ]
  },
  {
   "cell_type": "code",
   "execution_count": 52,
   "metadata": {},
   "outputs": [
    {
     "data": {
      "text/plain": [
       "29"
      ]
     },
     "execution_count": 52,
     "metadata": {},
     "output_type": "execute_result"
    }
   ],
   "source": [
    "len(continuity_labels)"
   ]
  },
  {
   "cell_type": "markdown",
   "metadata": {},
   "source": [
    "# Predict on holdout data"
   ]
  },
  {
   "cell_type": "code",
   "execution_count": 53,
   "metadata": {},
   "outputs": [],
   "source": [
    "best_labels = pd.Series(np.ones(data_x.shape[0]))\n",
    "best_labels.loc[labeling[best_run]] = 0"
   ]
  },
  {
   "cell_type": "code",
   "execution_count": 54,
   "metadata": {},
   "outputs": [
    {
     "data": {
      "text/plain": [
       "1.0    370\n",
       "0.0     28\n",
       "dtype: int64"
      ]
     },
     "execution_count": 54,
     "metadata": {},
     "output_type": "execute_result"
    }
   ],
   "source": [
    "best_labels.value_counts()"
   ]
  },
  {
   "cell_type": "code",
   "execution_count": 55,
   "metadata": {},
   "outputs": [
    {
     "data": {
      "text/plain": [
       "RandomForestClassifier(bootstrap=True, class_weight=None, criterion='gini',\n",
       "                       max_depth=None, max_features='auto', max_leaf_nodes=None,\n",
       "                       min_impurity_decrease=0.0, min_impurity_split=None,\n",
       "                       min_samples_leaf=1, min_samples_split=2,\n",
       "                       min_weight_fraction_leaf=0.0, n_estimators=150,\n",
       "                       n_jobs=None, oob_score=False, random_state=42, verbose=0,\n",
       "                       warm_start=False)"
      ]
     },
     "execution_count": 55,
     "metadata": {},
     "output_type": "execute_result"
    }
   ],
   "source": [
    "best_clf = RandomForestClassifier(n_estimators=150, random_state=42)\n",
    "best_clf.fit(data_x, best_labels)"
   ]
  },
  {
   "cell_type": "code",
   "execution_count": null,
   "metadata": {},
   "outputs": [],
   "source": []
  },
  {
   "cell_type": "code",
   "execution_count": 56,
   "metadata": {},
   "outputs": [],
   "source": [
    "holdout_probs = pd.DataFrame(best_clf.predict_proba(test_x))"
   ]
  },
  {
   "cell_type": "code",
   "execution_count": 57,
   "metadata": {},
   "outputs": [
    {
     "data": {
      "text/plain": [
       "(0.746880138001671, 0.29166666666666663)"
      ]
     },
     "execution_count": 57,
     "metadata": {},
     "output_type": "execute_result"
    }
   ],
   "source": [
    "scores[best_run]"
   ]
  },
  {
   "cell_type": "code",
   "execution_count": 58,
   "metadata": {},
   "outputs": [],
   "source": [
    "holdout_probs['pred'] = holdout_probs[0] < scores[best_run][1]\n",
    "holdout_probs['pred'] = holdout_probs['pred'].astype(int)"
   ]
  },
  {
   "cell_type": "code",
   "execution_count": 59,
   "metadata": {},
   "outputs": [],
   "source": [
    "holdout_preds = best_clf.predict(test_x)\n",
    "\n",
    "holdout_preds = holdout_probs['pred']"
   ]
  },
  {
   "cell_type": "code",
   "execution_count": 60,
   "metadata": {},
   "outputs": [
    {
     "name": "stdout",
     "output_type": "stream",
     "text": [
      "              precision    recall  f1-score   support\n",
      "\n",
      "           0       0.21      1.00      0.34        13\n",
      "           1       1.00      0.68      0.81       158\n",
      "\n",
      "    accuracy                           0.71       171\n",
      "   macro avg       0.60      0.84      0.58       171\n",
      "weighted avg       0.94      0.71      0.78       171\n",
      "\n"
     ]
    }
   ],
   "source": [
    "print(classification_report(holdout_preds, test_y))"
   ]
  },
  {
   "cell_type": "code",
   "execution_count": 61,
   "metadata": {},
   "outputs": [],
   "source": [
    "fpr, tpr, _ = roc_curve(holdout_preds, test_y, pos_label=1)\n",
    "roc_auc = auc(fpr, tpr)"
   ]
  },
  {
   "cell_type": "code",
   "execution_count": 62,
   "metadata": {},
   "outputs": [
    {
     "data": {
      "image/png": "[encoded data removed]",
      "text/plain": [
       "<Figure size 432x288 with 1 Axes>"
      ]
     },
     "metadata": {
      "needs_background": "light"
     },
     "output_type": "display_data"
    }
   ],
   "source": [
    "plt.figure()\n",
    "lw = 2\n",
    "plt.plot(fpr, tpr, color='darkorange',\n",
    "         lw=lw, label='ROC curve (area = %0.2f)' % roc_auc)\n",
    "plt.plot([0, 1], [0, 1], color='navy', lw=lw, linestyle='--')\n",
    "plt.xlim([0.0, 1.0])\n",
    "plt.ylim([0.0, 1.05])\n",
    "plt.xlabel('False Positive Rate')\n",
    "plt.ylabel('True Positive Rate')\n",
    "plt.title('Receiver operating characteristic example')\n",
    "plt.legend(loc=\"lower right\")\n",
    "plt.show()"
   ]
  },
  {
   "cell_type": "code",
   "execution_count": null,
   "metadata": {},
   "outputs": [],
   "source": []
  },
  {
   "cell_type": "code",
   "execution_count": null,
   "metadata": {},
   "outputs": [],
   "source": []
  },
  {
   "cell_type": "code",
   "execution_count": 63,
   "metadata": {},
   "outputs": [],
   "source": [
    "benchmark_labels = pd.Series(np.ones(data_x.shape[0]))\n",
    "benchmark_labels.loc[known_labels] = 0"
   ]
  },
  {
   "cell_type": "code",
   "execution_count": 78,
   "metadata": {},
   "outputs": [
    {
     "data": {
      "text/plain": [
       "RandomForestClassifier(bootstrap=True, class_weight=None, criterion='gini',\n",
       "                       max_depth=None, max_features='auto', max_leaf_nodes=None,\n",
       "                       min_impurity_decrease=0.0, min_impurity_split=None,\n",
       "                       min_samples_leaf=1, min_samples_split=2,\n",
       "                       min_weight_fraction_leaf=0.0, n_estimators=150,\n",
       "                       n_jobs=None, oob_score=False, random_state=42, verbose=0,\n",
       "                       warm_start=False)"
      ]
     },
     "execution_count": 78,
     "metadata": {},
     "output_type": "execute_result"
    }
   ],
   "source": [
    "benchmark_clf = RandomForestClassifier(n_estimators=150, random_state=42)\n",
    "# benchmark_clf.fit(data_x, benchmark_labels)\n",
    "benchmark_clf.fit(data_x, data_y)"
   ]
  },
  {
   "cell_type": "code",
   "execution_count": 79,
   "metadata": {},
   "outputs": [],
   "source": [
    "benchmark_holdout_probs = pd.DataFrame(benchmark_clf.predict_proba(test_x))"
   ]
  },
  {
   "cell_type": "code",
   "execution_count": 80,
   "metadata": {},
   "outputs": [],
   "source": [
    "benchmark_holdout_preds = benchmark_clf.predict(test_x)"
   ]
  },
  {
   "cell_type": "code",
   "execution_count": 81,
   "metadata": {},
   "outputs": [
    {
     "name": "stdout",
     "output_type": "stream",
     "text": [
      "LABED: 0.812 :: VERSUS :: BENCHMARK 0.9772\n"
     ]
    }
   ],
   "source": [
    "print(\"LABED: {} :: VERSUS :: BENCHMARK {}\".format(f1_score(holdout_preds, test_y).round(4),\n",
    "                                                     f1_score(benchmark_holdout_preds, test_y).round(4)))"
   ]
  },
  {
   "cell_type": "code",
   "execution_count": 82,
   "metadata": {},
   "outputs": [
    {
     "name": "stdout",
     "output_type": "stream",
     "text": [
      "              precision    recall  f1-score   support\n",
      "\n",
      "           0       0.21      1.00      0.34        13\n",
      "           1       1.00      0.68      0.81       158\n",
      "\n",
      "    accuracy                           0.71       171\n",
      "   macro avg       0.60      0.84      0.58       171\n",
      "weighted avg       0.94      0.71      0.78       171\n",
      "\n"
     ]
    }
   ],
   "source": [
    "print(classification_report(holdout_preds, test_y))"
   ]
  },
  {
   "cell_type": "code",
   "execution_count": 83,
   "metadata": {},
   "outputs": [
    {
     "name": "stdout",
     "output_type": "stream",
     "text": [
      "              precision    recall  f1-score   support\n",
      "\n",
      "           0       0.94      0.98      0.96        60\n",
      "           1       0.99      0.96      0.98       111\n",
      "\n",
      "    accuracy                           0.97       171\n",
      "   macro avg       0.96      0.97      0.97       171\n",
      "weighted avg       0.97      0.97      0.97       171\n",
      "\n"
     ]
    }
   ],
   "source": [
    "print(classification_report(benchmark_holdout_preds, test_y))"
   ]
  },
  {
   "cell_type": "code",
   "execution_count": 84,
   "metadata": {},
   "outputs": [],
   "source": [
    "fpr, tpr, _ = roc_curve(benchmark_holdout_preds, test_y, pos_label=1)\n",
    "roc_auc = auc(fpr, tpr)"
   ]
  },
  {
   "cell_type": "code",
   "execution_count": 85,
   "metadata": {},
   "outputs": [
    {
     "data": {
      "image/png": "[encoded data removed]",
      "text/plain": [
       "<Figure size 432x288 with 1 Axes>"
      ]
     },
     "metadata": {
      "needs_background": "light"
     },
     "output_type": "display_data"
    }
   ],
   "source": [
    "plt.figure()\n",
    "lw = 2\n",
    "plt.plot(fpr, tpr, color='darkorange',\n",
    "         lw=lw, label='ROC curve (area = %0.2f)' % roc_auc)\n",
    "plt.plot([0, 1], [0, 1], color='navy', lw=lw, linestyle='--')\n",
    "plt.xlim([0.0, 1.0])\n",
    "plt.ylim([0.0, 1.05])\n",
    "plt.xlabel('False Positive Rate')\n",
    "plt.ylabel('True Positive Rate')\n",
    "plt.title('Receiver operating characteristic example')\n",
    "plt.legend(loc=\"lower right\")\n",
    "plt.show()"
   ]
  },
  {
   "cell_type": "code",
   "execution_count": null,
   "metadata": {},
   "outputs": [],
   "source": []
  },
  {
   "cell_type": "code",
   "execution_count": null,
   "metadata": {},
   "outputs": [],
   "source": []
  }
 ],
 "metadata": {
  "kernelspec": {
   "display_name": "Python 3",
   "language": "python",
   "name": "python3"
  },
  "language_info": {
   "codemirror_mode": {
    "name": "ipython",
    "version": 3
   },
   "file_extension": ".py",
   "mimetype": "text/x-python",
   "name": "python",
   "nbconvert_exporter": "python",
   "pygments_lexer": "ipython3",
   "version": "3.7.3"
  }
 },
 "nbformat": 4,
 "nbformat_minor": 2
}
