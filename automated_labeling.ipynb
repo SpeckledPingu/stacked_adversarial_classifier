{
 "cells": [
  {
   "cell_type": "markdown",
   "metadata": {},
   "source": [
    "# If all you have is a hammer and some nails, can you find out what is a screw?\n",
    "\n",
    "## The purpose of this approach is to solve an issue within cybersecurity data. Rarely, very rarely, are fully labeled datasets available. Even more common is that you have data, you know there is threat actor traffic in it, but you don't have labels for that -- you only have labels that can be derived from alternate sources to be good.\n",
    "\n",
    "## What's worse, is that the alternate labels don't cover the entire dataset.\n",
    "\n",
    "## So you have a hammer, you have some nails, but you're trying to find screws. What do you do? Hammer everything and see if it's the same as when you hammer nails."
   ]
  },
  {
   "cell_type": "markdown",
   "metadata": {},
   "source": [
    "The approach to hammering everything and comparing it to nails is a novel approach using supervised classifiers. Rather than teaching it to discriminate between good and bad, it trains on bad (or good) vs all. The labeling comes about when grading the confusion of the classifier. If a bad data point is labeled as bad, but also in the \"all\" dataset, the supervised algorithm will have difficulty discerning its label. \n",
    "\n",
    "As a result, the known labels will have a probability closer to 0.5 in its class than data points with an alternate label.\n",
    "\n",
    "By using \"weak\" learners, in this case a random forest because it's strength is tunable based on n_estimators, in succession, they continue to label data according to an automatic cutoff. If left to its own devices, it'll simply label everything as the original target class since false positives will slowly grow and encompass everything.\n",
    "\n",
    "However, by examining when the minimum cutoff approaches closest to 0.5, we have a stopping point where there is a logical division between labeled data that separates the data the best.\n",
    "\n",
    "The algorithm iteratively labels more and more based on previous runs so that there is a pass-forward of information from 1 learner to the next.\n",
    "\n",
    "This dataset might be very well labeled actually, with high AUC scores, but in production it's a bad idea to run this way.\n",
    "\n",
    "Instead, retrain on the labels and recycle the cutoff that we've identified for partitioning the groups along the decision boundary.\n",
    "\n",
    "The result is relatively impressive."
   ]
  },
  {
   "cell_type": "markdown",
   "metadata": {},
   "source": [
    "## With 45 cases of malignant tumors labeled, and no benign cases labeled (approximately 25% of the malignant cases and 10% of the total data set), the final F1 score is 0.9493 compared to the fully labeled dataset of 70% of the data being 0.9772\n",
    "\n",
    "### The result also generalized better than the original labeling so that it proved to be stronger on the holdout than it did on the original labeling problem."
   ]
  },
  {
   "cell_type": "code",
   "execution_count": 1,
   "metadata": {},
   "outputs": [],
   "source": [
    "import pandas as pd\n",
    "import numpy as np\n",
    "\n",
    "import seaborn as sns\n",
    "import matplotlib.pyplot as plt\n",
    "from sklearn.ensemble import RandomForestClassifier\n",
    "from sklearn.model_selection import train_test_split\n",
    "from sklearn.metrics import *\n",
    "\n",
    "%matplotlib inline"
   ]
  },
  {
   "cell_type": "code",
   "execution_count": 2,
   "metadata": {},
   "outputs": [],
   "source": [
    "df = pd.read_csv('wdbc.data', header=None)\n",
    "df = df.drop(0, axis=1)"
   ]
  },
  {
   "cell_type": "code",
   "execution_count": 3,
   "metadata": {},
   "outputs": [],
   "source": [
    "df[1] = df[1] == 'B'\n",
    "df[1] = df[1].astype(int)"
   ]
  },
  {
   "cell_type": "code",
   "execution_count": 4,
   "metadata": {},
   "outputs": [
    {
     "data": {
      "text/plain": [
       "1    357\n",
       "0    212\n",
       "Name: 1, dtype: int64"
      ]
     },
     "execution_count": 4,
     "metadata": {},
     "output_type": "execute_result"
    }
   ],
   "source": [
    "df[1].value_counts()"
   ]
  },
  {
   "cell_type": "code",
   "execution_count": 5,
   "metadata": {},
   "outputs": [],
   "source": [
    "data_x, test_x, data_y, test_y = train_test_split(df.drop(1, axis=1), df[1], random_state=42,\n",
    "                                                  test_size=.3)"
   ]
  },
  {
   "cell_type": "code",
   "execution_count": 6,
   "metadata": {},
   "outputs": [],
   "source": [
    "data_x = data_x.reset_index(drop=True)\n",
    "data_y = data_y.reset_index(drop=True)"
   ]
  },
  {
   "cell_type": "code",
   "execution_count": 7,
   "metadata": {},
   "outputs": [],
   "source": [
    "known_labels = data_y[data_y == 0].sample(frac=0.3, random_state=42).index"
   ]
  },
  {
   "cell_type": "markdown",
   "metadata": {},
   "source": [
    "## Pseudo Labeling using Random Forests"
   ]
  },
  {
   "cell_type": "code",
   "execution_count": 8,
   "metadata": {},
   "outputs": [],
   "source": [
    "def fit_new_labels(_data, _known_idx, _clf):\n",
    "    _known_data = _data.loc[_known_idx]\n",
    "    _known_labels = pd.Series(np.zeros(_known_data.shape[0]), index=_known_idx)\n",
    "    \n",
    "    _unknown_labels = pd.Series(np.ones(_data.shape[0]), index=_data.index)\n",
    "    \n",
    "    _train_data = pd.concat([_known_data, _data], axis=0)\n",
    "    _train_targets = pd.concat([_known_labels, _unknown_labels], axis=0)\n",
    "    _clf.fit(_train_data, _train_targets)\n",
    "    \n",
    "    return _train_data, _train_targets, _clf\n",
    "\n",
    "def score_new_labels(_data, _known_idx, _clf, min_cutoff=False):\n",
    "    _preds = pd.DataFrame(_clf.predict_proba(_data), _data.index)\n",
    "    if not min_cutoff:\n",
    "        min_cutoff = _preds.iloc[:_known_idx.shape[0],0].min()\n",
    "    _preds['pred'] = _preds[0] < min_cutoff\n",
    "    _preds['pred'] = _preds['pred'].astype(int)\n",
    "    print(min_cutoff)\n",
    "    \n",
    "    return _preds, min_cutoff\n",
    "\n",
    "def extract_new_labels(_preds):\n",
    "    _new_labels = _preds[_preds['pred'] == 0].index\n",
    "    return _new_labels"
   ]
  },
  {
   "cell_type": "code",
   "execution_count": 9,
   "metadata": {},
   "outputs": [],
   "source": [
    "def run_scoring_session(data, labels, min_cutoff=False, estimators=10):\n",
    "    clf = RandomForestClassifier(n_estimators=estimators, random_state=42, n_jobs=-1)\n",
    "    _data, _targets, _clf = fit_new_labels(data, labels, clf)\n",
    "    preds, min_cutoff = score_new_labels(_data, labels, _clf, min_cutoff)\n",
    "    new_labels = extract_new_labels(preds)\n",
    "    \n",
    "    return preds, new_labels, min_cutoff, clf"
   ]
  },
  {
   "cell_type": "code",
   "execution_count": 10,
   "metadata": {},
   "outputs": [],
   "source": [
    "estimators = 50"
   ]
  },
  {
   "cell_type": "code",
   "execution_count": 11,
   "metadata": {},
   "outputs": [],
   "source": [
    "continuity_labels = known_labels.drop_duplicates()"
   ]
  },
  {
   "cell_type": "code",
   "execution_count": 12,
   "metadata": {
    "scrolled": true
   },
   "outputs": [
    {
     "name": "stdout",
     "output_type": "stream",
     "text": [
      "0.275\n"
     ]
    }
   ],
   "source": [
    "preds, new_labels, min_cutoff, clf = run_scoring_session(data_x, known_labels.drop_duplicates(), \n",
    "                                                         estimators=estimators)"
   ]
  },
  {
   "cell_type": "code",
   "execution_count": 13,
   "metadata": {},
   "outputs": [],
   "source": [
    "scores = list()\n",
    "score_dfs = list()\n",
    "clfs = list()\n",
    "labeling = list()"
   ]
  },
  {
   "cell_type": "code",
   "execution_count": 14,
   "metadata": {},
   "outputs": [],
   "source": [
    "scoring = preds.reset_index()\n",
    "scoring = scoring.drop_duplicates(subset='index')\n",
    "scoring = scoring.set_index('index')\n",
    "scoring = scoring.sort_index()\n",
    "scoring['org'] = data_y\n",
    "score_dfs.append(scoring)\n",
    "\n",
    "continuity_labels = pd.Index(set(continuity_labels.drop_duplicates().values).union(set(new_labels.values)))\n",
    "\n",
    "clfs.append(clf)\n",
    "labeling.append(continuity_labels)"
   ]
  },
  {
   "cell_type": "code",
   "execution_count": 15,
   "metadata": {},
   "outputs": [
    {
     "name": "stdout",
     "output_type": "stream",
     "text": [
      "0.275\n"
     ]
    }
   ],
   "source": [
    "preds_2, labels_, min_cutoff, clf = run_scoring_session(data_x, continuity_labels.drop_duplicates(), min_cutoff,\n",
    "                                                        estimators=10)\n",
    "\n",
    "labels_ = pd.Index(set(continuity_labels.drop_duplicates().values).union(set(labels_.values)))\n",
    "\n",
    "\n",
    "scoring = preds_2.reset_index()\n",
    "scoring = scoring.drop_duplicates(subset='index')\n",
    "scoring = scoring.set_index('index')\n",
    "scoring = scoring.sort_index()\n",
    "scoring['org'] = data_y\n",
    "score_dfs.append(scoring)\n",
    "\n",
    "fpr, tpr, _ = roc_curve(scoring['org'], scoring[0], pos_label=0)\n",
    "roc_auc = auc(fpr, tpr)\n",
    "\n",
    "scores.append((auc(fpr, tpr), min_cutoff))\n",
    "clfs.append(clf)\n",
    "labeling.append(continuity_labels)"
   ]
  },
  {
   "cell_type": "code",
   "execution_count": 16,
   "metadata": {},
   "outputs": [
    {
     "name": "stdout",
     "output_type": "stream",
     "text": [
      "0\n",
      "0.225\n",
      "1\n",
      "0.125\n",
      "2\n",
      "0.19833333333333333\n",
      "3\n",
      "0.18333333333333332\n",
      "4\n",
      "0.22999999999999998\n",
      "5\n",
      "0.11666666666666667\n",
      "6\n",
      "0.075\n",
      "7\n",
      "0.2\n",
      "8\n",
      "0.05\n",
      "9\n",
      "0.10833333333333332\n",
      "10\n",
      "0.1575\n",
      "11\n",
      "0.16666666666666666\n",
      "12\n",
      "0.1\n",
      "13\n",
      "0.18333333333333332\n",
      "14\n",
      "0.17333333333333334\n",
      "15\n",
      "0.15\n",
      "16\n",
      "0.13333333333333333\n",
      "17\n",
      "0.21666666666666665\n",
      "18\n",
      "0.11666666666666665\n",
      "19\n",
      "0.16666666666666666\n"
     ]
    }
   ],
   "source": [
    "previous_min_cutoff = 0\n",
    "for i in range(20):\n",
    "    print(i)\n",
    "#     preds_, labels_, min_cutoff = run_scoring_session(data_x, labels_.drop_duplicates(),min_cutoff)\n",
    "    preds_, labels_, min_cutoff, clf = run_scoring_session(data_x, continuity_labels.drop_duplicates(),\n",
    "                                                            estimators=10)\n",
    "    \n",
    "    continuity_labels = pd.Index(set(continuity_labels.drop_duplicates().values).union(set(labels_.values)))\n",
    "\n",
    "\n",
    "    scoring = preds_.reset_index()\n",
    "    scoring = scoring.drop_duplicates(subset='index')\n",
    "    scoring = scoring.set_index('index')\n",
    "    scoring = scoring.sort_index()\n",
    "    scoring['org'] = data_y\n",
    "    score_dfs.append(scoring)\n",
    "\n",
    "    fpr, tpr, _ = roc_curve(scoring['org'], scoring[0], pos_label=0)\n",
    "    roc_auc = auc(fpr, tpr)\n",
    "\n",
    "    scores.append((auc(fpr, tpr), min_cutoff))\n",
    "    clfs.append(clf)\n",
    "    labeling.append(continuity_labels)"
   ]
  },
  {
   "cell_type": "code",
   "execution_count": 17,
   "metadata": {},
   "outputs": [],
   "source": [
    "plotting = pd.DataFrame(scores)"
   ]
  },
  {
   "cell_type": "code",
   "execution_count": 18,
   "metadata": {},
   "outputs": [
    {
     "data": {
      "text/plain": [
       "<matplotlib.axes._subplots.AxesSubplot at 0x7fda561ca5f8>"
      ]
     },
     "execution_count": 18,
     "metadata": {},
     "output_type": "execute_result"
    },
    {
     "data": {
      "image/png": "[encoded data removed]",
      "text/plain": [
       "<Figure size 432x288 with 1 Axes>"
      ]
     },
     "metadata": {
      "needs_background": "light"
     },
     "output_type": "display_data"
    }
   ],
   "source": [
    "plotting[[0,1]].plot()"
   ]
  },
  {
   "cell_type": "markdown",
   "metadata": {},
   "source": [
    "#### Ideally, the minimum cutoff should be sloping down from an initial peak at the first run and should either have a downward trend or have a valley\n",
    "\n",
    "##### If the cutoff plot simply levels off immediately, adjust your estimators down to weaken them as much as possible"
   ]
  },
  {
   "cell_type": "code",
   "execution_count": 19,
   "metadata": {},
   "outputs": [
    {
     "data": {
      "text/plain": [
       "<matplotlib.axes._subplots.AxesSubplot at 0x7fda55e5d940>"
      ]
     },
     "execution_count": 19,
     "metadata": {},
     "output_type": "execute_result"
    },
    {
     "data": {
      "image/png": "[encoded data removed]",
      "text/plain": [
       "<Figure size 432x288 with 1 Axes>"
      ]
     },
     "metadata": {
      "needs_background": "light"
     },
     "output_type": "display_data"
    }
   ],
   "source": [
    "plotting[1].plot()"
   ]
  },
  {
   "cell_type": "code",
   "execution_count": 20,
   "metadata": {},
   "outputs": [
    {
     "data": {
      "text/plain": [
       "22"
      ]
     },
     "execution_count": 20,
     "metadata": {},
     "output_type": "execute_result"
    }
   ],
   "source": [
    "len(score_dfs)"
   ]
  },
  {
   "cell_type": "code",
   "execution_count": 21,
   "metadata": {},
   "outputs": [],
   "source": [
    "plotting[1] = plotting[1].round(4)"
   ]
  },
  {
   "cell_type": "code",
   "execution_count": 22,
   "metadata": {},
   "outputs": [
    {
     "data": {
      "text/plain": [
       "5"
      ]
     },
     "execution_count": 22,
     "metadata": {},
     "output_type": "execute_result"
    }
   ],
   "source": [
    "plateau_score = plotting.iloc[-1,1]\n",
    "top_scores = plotting[plotting[1] > plateau_score].iloc[1:]\n",
    "\n",
    "if top_scores.empty:\n",
    "    best_run = 0\n",
    "else:\n",
    "    best_run = top_scores[1].idxmax()\n",
    "best_run"
   ]
  },
  {
   "cell_type": "code",
   "execution_count": 23,
   "metadata": {},
   "outputs": [
    {
     "data": {
      "text/html": [
       "<div>\n",
       "<style scoped>\n",
       "    .dataframe tbody tr th:only-of-type {\n",
       "        vertical-align: middle;\n",
       "    }\n",
       "\n",
       "    .dataframe tbody tr th {\n",
       "        vertical-align: top;\n",
       "    }\n",
       "\n",
       "    .dataframe thead th {\n",
       "        text-align: right;\n",
       "    }\n",
       "</style>\n",
       "<table border=\"1\" class=\"dataframe\">\n",
       "  <thead>\n",
       "    <tr style=\"text-align: right;\">\n",
       "      <th></th>\n",
       "      <th>0</th>\n",
       "      <th>1</th>\n",
       "    </tr>\n",
       "  </thead>\n",
       "  <tbody>\n",
       "    <tr>\n",
       "      <th>1</th>\n",
       "      <td>0.880515</td>\n",
       "      <td>0.2250</td>\n",
       "    </tr>\n",
       "    <tr>\n",
       "      <th>3</th>\n",
       "      <td>0.909612</td>\n",
       "      <td>0.1983</td>\n",
       "    </tr>\n",
       "    <tr>\n",
       "      <th>4</th>\n",
       "      <td>0.906148</td>\n",
       "      <td>0.1833</td>\n",
       "    </tr>\n",
       "    <tr>\n",
       "      <th>5</th>\n",
       "      <td>0.911417</td>\n",
       "      <td>0.2300</td>\n",
       "    </tr>\n",
       "    <tr>\n",
       "      <th>8</th>\n",
       "      <td>0.930541</td>\n",
       "      <td>0.2000</td>\n",
       "    </tr>\n",
       "  </tbody>\n",
       "</table>\n",
       "</div>"
      ],
      "text/plain": [
       "          0       1\n",
       "1  0.880515  0.2250\n",
       "3  0.909612  0.1983\n",
       "4  0.906148  0.1833\n",
       "5  0.911417  0.2300\n",
       "8  0.930541  0.2000"
      ]
     },
     "execution_count": 23,
     "metadata": {},
     "output_type": "execute_result"
    }
   ],
   "source": [
    "top_scores.head()"
   ]
  },
  {
   "cell_type": "code",
   "execution_count": 24,
   "metadata": {},
   "outputs": [
    {
     "name": "stdout",
     "output_type": "stream",
     "text": [
      "              precision    recall  f1-score   support\n",
      "\n",
      "           0       0.93      0.64      0.76       149\n",
      "           1       0.82      0.97      0.89       249\n",
      "\n",
      "    accuracy                           0.85       398\n",
      "   macro avg       0.88      0.81      0.83       398\n",
      "weighted avg       0.86      0.85      0.84       398\n",
      "\n"
     ]
    }
   ],
   "source": [
    "print(classification_report(score_dfs[best_run]['org'], score_dfs[best_run]['pred']))"
   ]
  },
  {
   "cell_type": "code",
   "execution_count": 25,
   "metadata": {},
   "outputs": [],
   "source": [
    "fpr, tpr, _ = roc_curve(score_dfs[best_run]['org'], score_dfs[best_run][0], pos_label=0)\n",
    "roc_auc = auc(fpr, tpr)"
   ]
  },
  {
   "cell_type": "code",
   "execution_count": 26,
   "metadata": {},
   "outputs": [
    {
     "data": {
      "image/png": "[encoded data removed]",
      "text/plain": [
       "<Figure size 432x288 with 1 Axes>"
      ]
     },
     "metadata": {
      "needs_background": "light"
     },
     "output_type": "display_data"
    }
   ],
   "source": [
    "plt.figure()\n",
    "lw = 2\n",
    "plt.plot(fpr, tpr, color='darkorange',\n",
    "         lw=lw, label='ROC curve (area = %0.2f)' % roc_auc)\n",
    "plt.plot([0, 1], [0, 1], color='navy', lw=lw, linestyle='--')\n",
    "plt.xlim([0.0, 1.0])\n",
    "plt.ylim([0.0, 1.05])\n",
    "plt.xlabel('False Positive Rate')\n",
    "plt.ylabel('True Positive Rate')\n",
    "plt.title('Receiver operating characteristic example')\n",
    "plt.legend(loc=\"lower right\")\n",
    "plt.show()"
   ]
  },
  {
   "cell_type": "code",
   "execution_count": 27,
   "metadata": {},
   "outputs": [
    {
     "data": {
      "text/plain": [
       "391"
      ]
     },
     "execution_count": 27,
     "metadata": {},
     "output_type": "execute_result"
    }
   ],
   "source": [
    "len(continuity_labels)"
   ]
  },
  {
   "cell_type": "markdown",
   "metadata": {},
   "source": [
    "# Predict on holdout data"
   ]
  },
  {
   "cell_type": "code",
   "execution_count": 28,
   "metadata": {},
   "outputs": [
    {
     "data": {
      "text/plain": [
       "45"
      ]
     },
     "execution_count": 28,
     "metadata": {},
     "output_type": "execute_result"
    }
   ],
   "source": [
    "len(known_labels)"
   ]
  },
  {
   "cell_type": "code",
   "execution_count": 29,
   "metadata": {},
   "outputs": [],
   "source": [
    "best_labels = pd.Series(np.ones(data_x.shape[0]))\n",
    "best_labels.loc[labeling[best_run]] = 0"
   ]
  },
  {
   "cell_type": "code",
   "execution_count": 30,
   "metadata": {},
   "outputs": [
    {
     "data": {
      "text/plain": [
       "1.0    295\n",
       "0.0    103\n",
       "dtype: int64"
      ]
     },
     "execution_count": 30,
     "metadata": {},
     "output_type": "execute_result"
    }
   ],
   "source": [
    "best_labels.value_counts()"
   ]
  },
  {
   "cell_type": "code",
   "execution_count": 31,
   "metadata": {},
   "outputs": [
    {
     "data": {
      "text/plain": [
       "RandomForestClassifier(bootstrap=True, class_weight=None, criterion='gini',\n",
       "                       max_depth=None, max_features='auto', max_leaf_nodes=None,\n",
       "                       min_impurity_decrease=0.0, min_impurity_split=None,\n",
       "                       min_samples_leaf=1, min_samples_split=2,\n",
       "                       min_weight_fraction_leaf=0.0, n_estimators=200,\n",
       "                       n_jobs=None, oob_score=False, random_state=42, verbose=0,\n",
       "                       warm_start=False)"
      ]
     },
     "execution_count": 31,
     "metadata": {},
     "output_type": "execute_result"
    }
   ],
   "source": [
    "##### Uncomment me to see how a newly train classifier generalizes\n",
    "\n",
    "best_clf = RandomForestClassifier(n_estimators=200, random_state=42)\n",
    "best_clf.fit(data_x, best_labels)"
   ]
  },
  {
   "cell_type": "markdown",
   "metadata": {},
   "source": [
    "##### Uncomment me to see how the original classifier performs\n",
    "\n",
    "best_clf = clfs[best_run]\n",
    "best_clf.fit(data_x, best_labels)"
   ]
  },
  {
   "cell_type": "code",
   "execution_count": 32,
   "metadata": {},
   "outputs": [],
   "source": [
    "holdout_probs = pd.DataFrame(best_clf.predict_proba(test_x))"
   ]
  },
  {
   "cell_type": "code",
   "execution_count": 33,
   "metadata": {},
   "outputs": [
    {
     "data": {
      "text/plain": [
       "(0.9114174820085712, 0.22999999999999998)"
      ]
     },
     "execution_count": 33,
     "metadata": {},
     "output_type": "execute_result"
    }
   ],
   "source": [
    "scores[best_run]"
   ]
  },
  {
   "cell_type": "markdown",
   "metadata": {},
   "source": [
    "## The threshold approach for predictions appears to tune a trade off between the recall ability of the newly trained model for higher precision"
   ]
  },
  {
   "cell_type": "code",
   "execution_count": 34,
   "metadata": {},
   "outputs": [],
   "source": [
    "holdout_probs['pred'] = holdout_probs[0] < scores[best_run][1]\n",
    "holdout_probs['pred'] = holdout_probs['pred'].astype(int)"
   ]
  },
  {
   "cell_type": "code",
   "execution_count": 35,
   "metadata": {},
   "outputs": [],
   "source": [
    "holdout_preds = best_clf.predict(test_x)"
   ]
  },
  {
   "cell_type": "code",
   "execution_count": 36,
   "metadata": {},
   "outputs": [
    {
     "name": "stdout",
     "output_type": "stream",
     "text": [
      "              precision    recall  f1-score   support\n",
      "\n",
      "         0.0       0.73      0.98      0.84        47\n",
      "         1.0       0.99      0.86      0.92       124\n",
      "\n",
      "    accuracy                           0.89       171\n",
      "   macro avg       0.86      0.92      0.88       171\n",
      "weighted avg       0.92      0.89      0.90       171\n",
      "\n"
     ]
    }
   ],
   "source": [
    "print(classification_report(holdout_preds, test_y))"
   ]
  },
  {
   "cell_type": "code",
   "execution_count": 37,
   "metadata": {},
   "outputs": [],
   "source": [
    "holdout_preds = holdout_probs['pred']"
   ]
  },
  {
   "cell_type": "code",
   "execution_count": 38,
   "metadata": {},
   "outputs": [
    {
     "name": "stdout",
     "output_type": "stream",
     "text": [
      "              precision    recall  f1-score   support\n",
      "\n",
      "           0       0.90      0.92      0.91        62\n",
      "           1       0.95      0.94      0.95       109\n",
      "\n",
      "    accuracy                           0.94       171\n",
      "   macro avg       0.93      0.93      0.93       171\n",
      "weighted avg       0.94      0.94      0.94       171\n",
      "\n"
     ]
    }
   ],
   "source": [
    "print(classification_report(holdout_preds, test_y))"
   ]
  },
  {
   "cell_type": "code",
   "execution_count": 39,
   "metadata": {},
   "outputs": [],
   "source": [
    "fpr, tpr, _ = roc_curve(holdout_preds, test_y, pos_label=1)\n",
    "roc_auc = auc(fpr, tpr)"
   ]
  },
  {
   "cell_type": "code",
   "execution_count": 40,
   "metadata": {},
   "outputs": [
    {
     "data": {
      "image/png": "[encoded data removed]",
      "text/plain": [
       "<Figure size 432x288 with 1 Axes>"
      ]
     },
     "metadata": {
      "needs_background": "light"
     },
     "output_type": "display_data"
    }
   ],
   "source": [
    "plt.figure()\n",
    "lw = 2\n",
    "plt.plot(fpr, tpr, color='darkorange',\n",
    "         lw=lw, label='ROC curve (area = %0.2f)' % roc_auc)\n",
    "plt.plot([0, 1], [0, 1], color='navy', lw=lw, linestyle='--')\n",
    "plt.xlim([0.0, 1.0])\n",
    "plt.ylim([0.0, 1.05])\n",
    "plt.xlabel('False Positive Rate')\n",
    "plt.ylabel('True Positive Rate')\n",
    "plt.title('Receiver operating characteristic example')\n",
    "plt.legend(loc=\"lower right\")\n",
    "plt.show()"
   ]
  },
  {
   "cell_type": "code",
   "execution_count": null,
   "metadata": {},
   "outputs": [],
   "source": []
  },
  {
   "cell_type": "code",
   "execution_count": null,
   "metadata": {},
   "outputs": [],
   "source": []
  },
  {
   "cell_type": "code",
   "execution_count": 41,
   "metadata": {},
   "outputs": [],
   "source": [
    "benchmark_labels = pd.Series(np.ones(data_x.shape[0]))\n",
    "benchmark_labels.loc[known_labels] = 0"
   ]
  },
  {
   "cell_type": "code",
   "execution_count": 42,
   "metadata": {},
   "outputs": [
    {
     "data": {
      "text/plain": [
       "RandomForestClassifier(bootstrap=True, class_weight=None, criterion='gini',\n",
       "                       max_depth=None, max_features='auto', max_leaf_nodes=None,\n",
       "                       min_impurity_decrease=0.0, min_impurity_split=None,\n",
       "                       min_samples_leaf=1, min_samples_split=2,\n",
       "                       min_weight_fraction_leaf=0.0, n_estimators=150,\n",
       "                       n_jobs=None, oob_score=False, random_state=42, verbose=0,\n",
       "                       warm_start=False)"
      ]
     },
     "execution_count": 42,
     "metadata": {},
     "output_type": "execute_result"
    }
   ],
   "source": [
    "benchmark_clf = RandomForestClassifier(n_estimators=150, random_state=42)\n",
    "benchmark_clf.fit(data_x, benchmark_labels)\n",
    "benchmark_clf.fit(data_x, data_y)"
   ]
  },
  {
   "cell_type": "code",
   "execution_count": 43,
   "metadata": {},
   "outputs": [],
   "source": [
    "benchmark_holdout_probs = pd.DataFrame(benchmark_clf.predict_proba(test_x))"
   ]
  },
  {
   "cell_type": "code",
   "execution_count": 44,
   "metadata": {},
   "outputs": [],
   "source": [
    "benchmark_holdout_preds = benchmark_clf.predict(test_x)"
   ]
  },
  {
   "cell_type": "code",
   "execution_count": 45,
   "metadata": {},
   "outputs": [
    {
     "name": "stdout",
     "output_type": "stream",
     "text": [
      "PSEUDOLABELED: 0.9493 :: VERSUS :: BENCHMARK 0.9772\n"
     ]
    }
   ],
   "source": [
    "print(\"PSEUDOLABELED: {} :: VERSUS :: BENCHMARK {}\".format(f1_score(holdout_preds, test_y).round(4),\n",
    "                                                     f1_score(benchmark_holdout_preds, test_y).round(4)))"
   ]
  },
  {
   "cell_type": "code",
   "execution_count": 46,
   "metadata": {},
   "outputs": [
    {
     "name": "stdout",
     "output_type": "stream",
     "text": [
      "              precision    recall  f1-score   support\n",
      "\n",
      "           0       0.90      0.92      0.91        62\n",
      "           1       0.95      0.94      0.95       109\n",
      "\n",
      "    accuracy                           0.94       171\n",
      "   macro avg       0.93      0.93      0.93       171\n",
      "weighted avg       0.94      0.94      0.94       171\n",
      "\n"
     ]
    }
   ],
   "source": [
    "print(classification_report(holdout_preds, test_y))"
   ]
  },
  {
   "cell_type": "code",
   "execution_count": 47,
   "metadata": {},
   "outputs": [
    {
     "name": "stdout",
     "output_type": "stream",
     "text": [
      "              precision    recall  f1-score   support\n",
      "\n",
      "           0       0.94      0.98      0.96        60\n",
      "           1       0.99      0.96      0.98       111\n",
      "\n",
      "    accuracy                           0.97       171\n",
      "   macro avg       0.96      0.97      0.97       171\n",
      "weighted avg       0.97      0.97      0.97       171\n",
      "\n"
     ]
    }
   ],
   "source": [
    "print(classification_report(benchmark_holdout_preds, test_y))"
   ]
  },
  {
   "cell_type": "code",
   "execution_count": 48,
   "metadata": {},
   "outputs": [],
   "source": [
    "fpr, tpr, _ = roc_curve(benchmark_holdout_preds, test_y, pos_label=1)\n",
    "roc_auc = auc(fpr, tpr)"
   ]
  },
  {
   "cell_type": "code",
   "execution_count": 49,
   "metadata": {},
   "outputs": [
    {
     "data": {
      "image/png": "[encoded data removed]",
      "text/plain": [
       "<Figure size 432x288 with 1 Axes>"
      ]
     },
     "metadata": {
      "needs_background": "light"
     },
     "output_type": "display_data"
    }
   ],
   "source": [
    "plt.figure()\n",
    "lw = 2\n",
    "plt.plot(fpr, tpr, color='darkorange',\n",
    "         lw=lw, label='ROC curve (area = %0.2f)' % roc_auc)\n",
    "plt.plot([0, 1], [0, 1], color='navy', lw=lw, linestyle='--')\n",
    "plt.xlim([0.0, 1.0])\n",
    "plt.ylim([0.0, 1.05])\n",
    "plt.xlabel('False Positive Rate')\n",
    "plt.ylabel('True Positive Rate')\n",
    "plt.title('Receiver operating characteristic example')\n",
    "plt.legend(loc=\"lower right\")\n",
    "plt.show()"
   ]
  },
  {
   "cell_type": "code",
   "execution_count": null,
   "metadata": {},
   "outputs": [],
   "source": []
  },
  {
   "cell_type": "code",
   "execution_count": null,
   "metadata": {},
   "outputs": [],
   "source": []
  }
 ],
 "metadata": {
  "kernelspec": {
   "display_name": "Python 3",
   "language": "python",
   "name": "python3"
  },
  "language_info": {
   "codemirror_mode": {
    "name": "ipython",
    "version": 3
   },
   "file_extension": ".py",
   "mimetype": "text/x-python",
   "name": "python",
   "nbconvert_exporter": "python",
   "pygments_lexer": "ipython3",
   "version": "3.7.3"
  }
 },
 "nbformat": 4,
 "nbformat_minor": 2
}
